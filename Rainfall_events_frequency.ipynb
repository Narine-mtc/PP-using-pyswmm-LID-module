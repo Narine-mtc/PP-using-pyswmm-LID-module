{
 "cells": [
  {
   "cell_type": "markdown",
   "metadata": {},
   "source": [
    "# Frequency analysis of Rainfall events"
   ]
  },
  {
   "cell_type": "markdown",
   "metadata": {},
   "source": [
    "## Extract periods with observed rainfall"
   ]
  },
  {
   "cell_type": "code",
   "execution_count": 171,
   "metadata": {},
   "outputs": [
    {
     "data": {
      "text/plain": [
       "['name', 'year', 'month', 'day', 'hour', 'minute', 'rainfall']"
      ]
     },
     "execution_count": 171,
     "metadata": {},
     "output_type": "execute_result"
    }
   ],
   "source": [
    "import numpy as np\n",
    "import pandas as pd\n",
    "import array as arr\n",
    "import matplotlib.pyplot as plt\n",
    "\n",
    "df = pd.read_csv(\"BSA_1993TY.txt\",sep='\\t') \n",
    "list(df.columns.values)\n",
    "#df.day.apply(type)\n"
   ]
  },
  {
   "cell_type": "code",
   "execution_count": 172,
   "metadata": {},
   "outputs": [],
   "source": [
    "def consecutivo(mes1,dia1,hora1,mes2,dia2,hora2):\n",
    "    last_day=[31,28,31,30,31,30,31,31,30,31,30,31] #last day of each month for 1993\n",
    "    \n",
    "    if not (mes1==mes2 or mes1+1==mes2):\n",
    "        return False\n",
    "    if not (dia1==dia2 or dia1+1==dia2 or (dia1==last_day[mes1-1] and dia2==1)):\n",
    "        return False\n",
    "    if not (hora1+1==hora2 or (hora1==23 and hora2==0)):\n",
    "        return False\n",
    "    else: \n",
    "        return True\n",
    "        \n",
    "conteo=[]\n",
    "rain_no=1\n",
    "duracion=[]\n",
    "profundidad=[]\n",
    "\n",
    "#for indice_f in range(86):\n",
    "cuantos=1\n",
    "prof=0\n",
    "for indice_f in range(df.shape[0]):\n",
    "    if indice_f==(max(df.shape)-1):\n",
    "        if consecutivo(df.month[indice_f-1],df.day[indice_f-1],df.hour[indice_f-1],df.month[indice_f],df.day[indice_f],df.hour[indice_f])== True:\n",
    "            conteo.append(rain_no)\n",
    "            prof=prof+df.rainfall[indice_f]\n",
    "            profundidad.append(prof)\n",
    "            duracion.append(cuantos+1)\n",
    "        else:\n",
    "            prof=df.rainfall[indice_f]\n",
    "            profundidad.append(prof)\n",
    "            duracion.append(cuantos)\n",
    "    else:\n",
    "        if consecutivo(df.month[indice_f],df.day[indice_f],df.hour[indice_f],df.month[indice_f+1],df.day[indice_f+1],df.hour[indice_f+1])== True:\n",
    "            conteo.append(rain_no)\n",
    "            prof=prof+df.rainfall[indice_f]\n",
    "            cuantos=cuantos+1\n",
    "        else:\n",
    "            prof=prof+df.rainfall[indice_f]\n",
    "            profundidad.append(prof)\n",
    "            duracion.append(cuantos)\n",
    "            cuantos=1\n",
    "            prof=0\n",
    "            #conteo.append(0)\n",
    "            rain_no=rain_no+1\n",
    "\n",
    "#print(conteo)\n",
    "#print(duracion)\n",
    "#print(profundidad)                 "
   ]
  },
  {
   "cell_type": "code",
   "execution_count": 173,
   "metadata": {},
   "outputs": [
    {
     "data": {
      "text/plain": [
       "Text(0, 0.5, 'Rainfall depth (in)')"
      ]
     },
     "execution_count": 173,
     "metadata": {},
     "output_type": "execute_result"
    },
    {
     "data": {
      "image/png": "[encoded data removed]",
      "text/plain": [
       "<Figure size 432x288 with 1 Axes>"
      ]
     },
     "metadata": {
      "needs_background": "light"
     },
     "output_type": "display_data"
    }
   ],
   "source": [
    "plt.scatter(duracion,profundidad,c='b',marker='*')\n",
    "plt.title('Scatter plot Typical year (1993) for the City of Buffalo')\n",
    "plt.xlabel('Duration (h)')\n",
    "plt.ylabel('Rainfall depth (in)')"
   ]
  },
  {
   "cell_type": "markdown",
   "metadata": {},
   "source": [
    "## Histogram Analysis"
   ]
  },
  {
   "cell_type": "code",
   "execution_count": 185,
   "metadata": {},
   "outputs": [
    {
     "data": {
      "text/plain": [
       "(array([164.,  25.,  25.,  12.,   7.,   9.,   9.,   4.,   5.,   4.,   1.,\n",
       "          1.,   1.,   1.,   3.,   1.,   0.,   1.,   0.,   0.,   0.,   1.,\n",
       "          0.,   1.,   0.,   0.,   0.,   0.,   0.,   1.]),\n",
       " array([0.01      , 0.06733333, 0.12466667, 0.182     , 0.23933333,\n",
       "        0.29666667, 0.354     , 0.41133333, 0.46866667, 0.526     ,\n",
       "        0.58333333, 0.64066667, 0.698     , 0.75533333, 0.81266667,\n",
       "        0.87      , 0.92733333, 0.98466667, 1.042     , 1.09933333,\n",
       "        1.15666667, 1.214     , 1.27133333, 1.32866667, 1.386     ,\n",
       "        1.44333333, 1.50066667, 1.558     , 1.61533333, 1.67266667,\n",
       "        1.73      ]),\n",
       " <a list of 30 Patch objects>)"
      ]
     },
     "execution_count": 185,
     "metadata": {},
     "output_type": "execute_result"
    },
    {
     "data": {
      "image/png": "[encoded data removed]",
      "text/plain": [
       "<Figure size 1440x1440 with 3 Axes>"
      ]
     },
     "metadata": {},
     "output_type": "display_data"
    }
   ],
   "source": [
    "fig = plt.figure(num=None, figsize=(20,20), facecolor='w', edgecolor='k')\n",
    "############Duration (h) histogram###############\n",
    "ax = fig.add_subplot(4,4,1)\n",
    "counts, bins = np.histogram(duracion,bins=25)\n",
    "ax.hist(bins[:-1], bins, weights=counts)\n",
    "ax.hist(duracion, bins=bins, density=True, histtype='step', cumulative=-1,label='Reversed emp.')\n",
    "\n",
    "############Depth(in) histogram###############\n",
    "ax = fig.add_subplot(4,4,2)\n",
    "counts, bins = np.histogram(profundidad,bins=30)\n",
    "ax.hist(bins[:-1], bins, weights=counts)\n",
    "\n",
    "############Depth(in) histogram###############\n",
    "ax = fig.add_subplot(4,4,3)\n",
    "counts, bins = np.histogram(profundidad,bins=30)\n",
    "ax.hist(bins[:-1], bins, weights=counts)\n"
   ]
  },
  {
   "cell_type": "code",
   "execution_count": null,
   "metadata": {},
   "outputs": [],
   "source": []
  }
 ],
 "metadata": {
  "kernelspec": {
   "display_name": "Python 3",
   "language": "python",
   "name": "python3"
  },
  "language_info": {
   "codemirror_mode": {
    "name": "ipython",
    "version": 3
   },
   "file_extension": ".py",
   "mimetype": "text/x-python",
   "name": "python",
   "nbconvert_exporter": "python",
   "pygments_lexer": "ipython3",
   "version": "3.7.3"
  }
 },
 "nbformat": 4,
 "nbformat_minor": 2
}
